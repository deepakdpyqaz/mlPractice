{
 "cells": [
  {
   "cell_type": "markdown",
   "id": "ae48a764-a4f6-41c7-9a83-7dd9489cdf54",
   "metadata": {},
   "source": [
    "# Pokemon Dataset"
   ]
  },
  {
   "cell_type": "markdown",
   "id": "a7a3abf8-1729-4190-ae75-b5e530337952",
   "metadata": {},
   "source": [
    "The following project is about exploration, visualization and drawing popular insights from the [pokemon dataset](https://www.kaggle.com/rounakbanik/pokemon)"
   ]
  },
  {
   "cell_type": "code",
   "execution_count": 1,
   "id": "9b6e5817-a6c2-4ae4-9c6d-6a7ef611835d",
   "metadata": {},
   "outputs": [],
   "source": [
    "import numpy as np\n",
    "import pandas as pd\n",
    "import seaborn as sns\n",
    "import matplotlib.pyplot as plt"
   ]
  },
  {
   "cell_type": "code",
   "execution_count": 2,
   "id": "ea7429b3-5e62-484d-ace0-f8442c1e43ea",
   "metadata": {},
   "outputs": [],
   "source": [
    "data = pd.read_csv(\"data/pokemon.csv\")"
   ]
  },
  {
   "cell_type": "code",
   "execution_count": 3,
   "id": "818aaefa-abca-4818-819f-40d69498e320",
   "metadata": {},
   "outputs": [
    {
     "data": {
      "text/html": [
       "<div>\n",
       "<style scoped>\n",
       "    .dataframe tbody tr th:only-of-type {\n",
       "        vertical-align: middle;\n",
       "    }\n",
       "\n",
       "    .dataframe tbody tr th {\n",
       "        vertical-align: top;\n",
       "    }\n",
       "\n",
       "    .dataframe thead th {\n",
       "        text-align: right;\n",
       "    }\n",
       "</style>\n",
       "<table border=\"1\" class=\"dataframe\">\n",
       "  <thead>\n",
       "    <tr style=\"text-align: right;\">\n",
       "      <th></th>\n",
       "      <th>abilities</th>\n",
       "      <th>against_bug</th>\n",
       "      <th>against_dark</th>\n",
       "      <th>against_dragon</th>\n",
       "      <th>against_electric</th>\n",
       "      <th>against_fairy</th>\n",
       "      <th>against_fight</th>\n",
       "      <th>against_fire</th>\n",
       "      <th>against_flying</th>\n",
       "      <th>against_ghost</th>\n",
       "      <th>...</th>\n",
       "      <th>percentage_male</th>\n",
       "      <th>pokedex_number</th>\n",
       "      <th>sp_attack</th>\n",
       "      <th>sp_defense</th>\n",
       "      <th>speed</th>\n",
       "      <th>type1</th>\n",
       "      <th>type2</th>\n",
       "      <th>weight_kg</th>\n",
       "      <th>generation</th>\n",
       "      <th>is_legendary</th>\n",
       "    </tr>\n",
       "  </thead>\n",
       "  <tbody>\n",
       "    <tr>\n",
       "      <th>0</th>\n",
       "      <td>['Overgrow', 'Chlorophyll']</td>\n",
       "      <td>1.0</td>\n",
       "      <td>1.0</td>\n",
       "      <td>1.0</td>\n",
       "      <td>0.5</td>\n",
       "      <td>0.5</td>\n",
       "      <td>0.5</td>\n",
       "      <td>2.0</td>\n",
       "      <td>2.0</td>\n",
       "      <td>1.0</td>\n",
       "      <td>...</td>\n",
       "      <td>88.1</td>\n",
       "      <td>1</td>\n",
       "      <td>65</td>\n",
       "      <td>65</td>\n",
       "      <td>45</td>\n",
       "      <td>grass</td>\n",
       "      <td>poison</td>\n",
       "      <td>6.9</td>\n",
       "      <td>1</td>\n",
       "      <td>0</td>\n",
       "    </tr>\n",
       "    <tr>\n",
       "      <th>1</th>\n",
       "      <td>['Overgrow', 'Chlorophyll']</td>\n",
       "      <td>1.0</td>\n",
       "      <td>1.0</td>\n",
       "      <td>1.0</td>\n",
       "      <td>0.5</td>\n",
       "      <td>0.5</td>\n",
       "      <td>0.5</td>\n",
       "      <td>2.0</td>\n",
       "      <td>2.0</td>\n",
       "      <td>1.0</td>\n",
       "      <td>...</td>\n",
       "      <td>88.1</td>\n",
       "      <td>2</td>\n",
       "      <td>80</td>\n",
       "      <td>80</td>\n",
       "      <td>60</td>\n",
       "      <td>grass</td>\n",
       "      <td>poison</td>\n",
       "      <td>13.0</td>\n",
       "      <td>1</td>\n",
       "      <td>0</td>\n",
       "    </tr>\n",
       "    <tr>\n",
       "      <th>2</th>\n",
       "      <td>['Overgrow', 'Chlorophyll']</td>\n",
       "      <td>1.0</td>\n",
       "      <td>1.0</td>\n",
       "      <td>1.0</td>\n",
       "      <td>0.5</td>\n",
       "      <td>0.5</td>\n",
       "      <td>0.5</td>\n",
       "      <td>2.0</td>\n",
       "      <td>2.0</td>\n",
       "      <td>1.0</td>\n",
       "      <td>...</td>\n",
       "      <td>88.1</td>\n",
       "      <td>3</td>\n",
       "      <td>122</td>\n",
       "      <td>120</td>\n",
       "      <td>80</td>\n",
       "      <td>grass</td>\n",
       "      <td>poison</td>\n",
       "      <td>100.0</td>\n",
       "      <td>1</td>\n",
       "      <td>0</td>\n",
       "    </tr>\n",
       "    <tr>\n",
       "      <th>3</th>\n",
       "      <td>['Blaze', 'Solar Power']</td>\n",
       "      <td>0.5</td>\n",
       "      <td>1.0</td>\n",
       "      <td>1.0</td>\n",
       "      <td>1.0</td>\n",
       "      <td>0.5</td>\n",
       "      <td>1.0</td>\n",
       "      <td>0.5</td>\n",
       "      <td>1.0</td>\n",
       "      <td>1.0</td>\n",
       "      <td>...</td>\n",
       "      <td>88.1</td>\n",
       "      <td>4</td>\n",
       "      <td>60</td>\n",
       "      <td>50</td>\n",
       "      <td>65</td>\n",
       "      <td>fire</td>\n",
       "      <td>NaN</td>\n",
       "      <td>8.5</td>\n",
       "      <td>1</td>\n",
       "      <td>0</td>\n",
       "    </tr>\n",
       "    <tr>\n",
       "      <th>4</th>\n",
       "      <td>['Blaze', 'Solar Power']</td>\n",
       "      <td>0.5</td>\n",
       "      <td>1.0</td>\n",
       "      <td>1.0</td>\n",
       "      <td>1.0</td>\n",
       "      <td>0.5</td>\n",
       "      <td>1.0</td>\n",
       "      <td>0.5</td>\n",
       "      <td>1.0</td>\n",
       "      <td>1.0</td>\n",
       "      <td>...</td>\n",
       "      <td>88.1</td>\n",
       "      <td>5</td>\n",
       "      <td>80</td>\n",
       "      <td>65</td>\n",
       "      <td>80</td>\n",
       "      <td>fire</td>\n",
       "      <td>NaN</td>\n",
       "      <td>19.0</td>\n",
       "      <td>1</td>\n",
       "      <td>0</td>\n",
       "    </tr>\n",
       "  </tbody>\n",
       "</table>\n",
       "<p>5 rows × 41 columns</p>\n",
       "</div>"
      ],
      "text/plain": [
       "                     abilities  against_bug  against_dark  against_dragon  \\\n",
       "0  ['Overgrow', 'Chlorophyll']          1.0           1.0             1.0   \n",
       "1  ['Overgrow', 'Chlorophyll']          1.0           1.0             1.0   \n",
       "2  ['Overgrow', 'Chlorophyll']          1.0           1.0             1.0   \n",
       "3     ['Blaze', 'Solar Power']          0.5           1.0             1.0   \n",
       "4     ['Blaze', 'Solar Power']          0.5           1.0             1.0   \n",
       "\n",
       "   against_electric  against_fairy  against_fight  against_fire  \\\n",
       "0               0.5            0.5            0.5           2.0   \n",
       "1               0.5            0.5            0.5           2.0   \n",
       "2               0.5            0.5            0.5           2.0   \n",
       "3               1.0            0.5            1.0           0.5   \n",
       "4               1.0            0.5            1.0           0.5   \n",
       "\n",
       "   against_flying  against_ghost  ...  percentage_male  pokedex_number  \\\n",
       "0             2.0            1.0  ...             88.1               1   \n",
       "1             2.0            1.0  ...             88.1               2   \n",
       "2             2.0            1.0  ...             88.1               3   \n",
       "3             1.0            1.0  ...             88.1               4   \n",
       "4             1.0            1.0  ...             88.1               5   \n",
       "\n",
       "   sp_attack  sp_defense  speed  type1   type2  weight_kg  generation  \\\n",
       "0         65          65     45  grass  poison        6.9           1   \n",
       "1         80          80     60  grass  poison       13.0           1   \n",
       "2        122         120     80  grass  poison      100.0           1   \n",
       "3         60          50     65   fire     NaN        8.5           1   \n",
       "4         80          65     80   fire     NaN       19.0           1   \n",
       "\n",
       "   is_legendary  \n",
       "0             0  \n",
       "1             0  \n",
       "2             0  \n",
       "3             0  \n",
       "4             0  \n",
       "\n",
       "[5 rows x 41 columns]"
      ]
     },
     "execution_count": 3,
     "metadata": {},
     "output_type": "execute_result"
    }
   ],
   "source": [
    "data.head()"
   ]
  },
  {
   "cell_type": "code",
   "execution_count": 4,
   "id": "a308d263-c19b-4fe5-82eb-1a389fd22d27",
   "metadata": {},
   "outputs": [
    {
     "data": {
      "text/plain": [
       "(801, 41)"
      ]
     },
     "execution_count": 4,
     "metadata": {},
     "output_type": "execute_result"
    }
   ],
   "source": [
    "data.shape"
   ]
  },
  {
   "cell_type": "code",
   "execution_count": 5,
   "id": "2f430646-7afb-482a-a1b2-058e52239dda",
   "metadata": {},
   "outputs": [
    {
     "data": {
      "text/plain": [
       "Index(['abilities', 'against_bug', 'against_dark', 'against_dragon',\n",
       "       'against_electric', 'against_fairy', 'against_fight', 'against_fire',\n",
       "       'against_flying', 'against_ghost', 'against_grass', 'against_ground',\n",
       "       'against_ice', 'against_normal', 'against_poison', 'against_psychic',\n",
       "       'against_rock', 'against_steel', 'against_water', 'attack',\n",
       "       'base_egg_steps', 'base_happiness', 'base_total', 'capture_rate',\n",
       "       'classfication', 'defense', 'experience_growth', 'height_m', 'hp',\n",
       "       'japanese_name', 'name', 'percentage_male', 'pokedex_number',\n",
       "       'sp_attack', 'sp_defense', 'speed', 'type1', 'type2', 'weight_kg',\n",
       "       'generation', 'is_legendary'],\n",
       "      dtype='object')"
      ]
     },
     "execution_count": 5,
     "metadata": {},
     "output_type": "execute_result"
    }
   ],
   "source": [
    "data.columns"
   ]
  },
  {
   "cell_type": "code",
   "execution_count": 6,
   "id": "8e00c22a-3ecb-4876-97b3-320c49d024a0",
   "metadata": {},
   "outputs": [
    {
     "data": {
      "text/html": [
       "<div>\n",
       "<style scoped>\n",
       "    .dataframe tbody tr th:only-of-type {\n",
       "        vertical-align: middle;\n",
       "    }\n",
       "\n",
       "    .dataframe tbody tr th {\n",
       "        vertical-align: top;\n",
       "    }\n",
       "\n",
       "    .dataframe thead th {\n",
       "        text-align: right;\n",
       "    }\n",
       "</style>\n",
       "<table border=\"1\" class=\"dataframe\">\n",
       "  <thead>\n",
       "    <tr style=\"text-align: right;\">\n",
       "      <th></th>\n",
       "      <th>against_bug</th>\n",
       "      <th>against_dark</th>\n",
       "      <th>against_dragon</th>\n",
       "      <th>against_electric</th>\n",
       "      <th>against_fairy</th>\n",
       "      <th>against_fight</th>\n",
       "      <th>against_fire</th>\n",
       "      <th>against_flying</th>\n",
       "      <th>against_ghost</th>\n",
       "      <th>against_grass</th>\n",
       "      <th>...</th>\n",
       "      <th>height_m</th>\n",
       "      <th>hp</th>\n",
       "      <th>percentage_male</th>\n",
       "      <th>pokedex_number</th>\n",
       "      <th>sp_attack</th>\n",
       "      <th>sp_defense</th>\n",
       "      <th>speed</th>\n",
       "      <th>weight_kg</th>\n",
       "      <th>generation</th>\n",
       "      <th>is_legendary</th>\n",
       "    </tr>\n",
       "  </thead>\n",
       "  <tbody>\n",
       "    <tr>\n",
       "      <th>count</th>\n",
       "      <td>801.000000</td>\n",
       "      <td>801.000000</td>\n",
       "      <td>801.000000</td>\n",
       "      <td>801.000000</td>\n",
       "      <td>801.000000</td>\n",
       "      <td>801.000000</td>\n",
       "      <td>801.000000</td>\n",
       "      <td>801.000000</td>\n",
       "      <td>801.000000</td>\n",
       "      <td>801.000000</td>\n",
       "      <td>...</td>\n",
       "      <td>781.000000</td>\n",
       "      <td>801.000000</td>\n",
       "      <td>703.000000</td>\n",
       "      <td>801.000000</td>\n",
       "      <td>801.000000</td>\n",
       "      <td>801.000000</td>\n",
       "      <td>801.000000</td>\n",
       "      <td>781.000000</td>\n",
       "      <td>801.000000</td>\n",
       "      <td>801.000000</td>\n",
       "    </tr>\n",
       "    <tr>\n",
       "      <th>mean</th>\n",
       "      <td>0.996255</td>\n",
       "      <td>1.057116</td>\n",
       "      <td>0.968789</td>\n",
       "      <td>1.073970</td>\n",
       "      <td>1.068976</td>\n",
       "      <td>1.065543</td>\n",
       "      <td>1.135456</td>\n",
       "      <td>1.192884</td>\n",
       "      <td>0.985019</td>\n",
       "      <td>1.034020</td>\n",
       "      <td>...</td>\n",
       "      <td>1.163892</td>\n",
       "      <td>68.958801</td>\n",
       "      <td>55.155761</td>\n",
       "      <td>401.000000</td>\n",
       "      <td>71.305868</td>\n",
       "      <td>70.911361</td>\n",
       "      <td>66.334582</td>\n",
       "      <td>61.378105</td>\n",
       "      <td>3.690387</td>\n",
       "      <td>0.087391</td>\n",
       "    </tr>\n",
       "    <tr>\n",
       "      <th>std</th>\n",
       "      <td>0.597248</td>\n",
       "      <td>0.438142</td>\n",
       "      <td>0.353058</td>\n",
       "      <td>0.654962</td>\n",
       "      <td>0.522167</td>\n",
       "      <td>0.717251</td>\n",
       "      <td>0.691853</td>\n",
       "      <td>0.604488</td>\n",
       "      <td>0.558256</td>\n",
       "      <td>0.788896</td>\n",
       "      <td>...</td>\n",
       "      <td>1.080326</td>\n",
       "      <td>26.576015</td>\n",
       "      <td>20.261623</td>\n",
       "      <td>231.373075</td>\n",
       "      <td>32.353826</td>\n",
       "      <td>27.942501</td>\n",
       "      <td>28.907662</td>\n",
       "      <td>109.354766</td>\n",
       "      <td>1.930420</td>\n",
       "      <td>0.282583</td>\n",
       "    </tr>\n",
       "    <tr>\n",
       "      <th>min</th>\n",
       "      <td>0.250000</td>\n",
       "      <td>0.250000</td>\n",
       "      <td>0.000000</td>\n",
       "      <td>0.000000</td>\n",
       "      <td>0.250000</td>\n",
       "      <td>0.000000</td>\n",
       "      <td>0.250000</td>\n",
       "      <td>0.250000</td>\n",
       "      <td>0.000000</td>\n",
       "      <td>0.250000</td>\n",
       "      <td>...</td>\n",
       "      <td>0.100000</td>\n",
       "      <td>1.000000</td>\n",
       "      <td>0.000000</td>\n",
       "      <td>1.000000</td>\n",
       "      <td>10.000000</td>\n",
       "      <td>20.000000</td>\n",
       "      <td>5.000000</td>\n",
       "      <td>0.100000</td>\n",
       "      <td>1.000000</td>\n",
       "      <td>0.000000</td>\n",
       "    </tr>\n",
       "    <tr>\n",
       "      <th>25%</th>\n",
       "      <td>0.500000</td>\n",
       "      <td>1.000000</td>\n",
       "      <td>1.000000</td>\n",
       "      <td>0.500000</td>\n",
       "      <td>1.000000</td>\n",
       "      <td>0.500000</td>\n",
       "      <td>0.500000</td>\n",
       "      <td>1.000000</td>\n",
       "      <td>1.000000</td>\n",
       "      <td>0.500000</td>\n",
       "      <td>...</td>\n",
       "      <td>0.600000</td>\n",
       "      <td>50.000000</td>\n",
       "      <td>50.000000</td>\n",
       "      <td>201.000000</td>\n",
       "      <td>45.000000</td>\n",
       "      <td>50.000000</td>\n",
       "      <td>45.000000</td>\n",
       "      <td>9.000000</td>\n",
       "      <td>2.000000</td>\n",
       "      <td>0.000000</td>\n",
       "    </tr>\n",
       "    <tr>\n",
       "      <th>50%</th>\n",
       "      <td>1.000000</td>\n",
       "      <td>1.000000</td>\n",
       "      <td>1.000000</td>\n",
       "      <td>1.000000</td>\n",
       "      <td>1.000000</td>\n",
       "      <td>1.000000</td>\n",
       "      <td>1.000000</td>\n",
       "      <td>1.000000</td>\n",
       "      <td>1.000000</td>\n",
       "      <td>1.000000</td>\n",
       "      <td>...</td>\n",
       "      <td>1.000000</td>\n",
       "      <td>65.000000</td>\n",
       "      <td>50.000000</td>\n",
       "      <td>401.000000</td>\n",
       "      <td>65.000000</td>\n",
       "      <td>66.000000</td>\n",
       "      <td>65.000000</td>\n",
       "      <td>27.300000</td>\n",
       "      <td>4.000000</td>\n",
       "      <td>0.000000</td>\n",
       "    </tr>\n",
       "    <tr>\n",
       "      <th>75%</th>\n",
       "      <td>1.000000</td>\n",
       "      <td>1.000000</td>\n",
       "      <td>1.000000</td>\n",
       "      <td>1.000000</td>\n",
       "      <td>1.000000</td>\n",
       "      <td>1.000000</td>\n",
       "      <td>2.000000</td>\n",
       "      <td>1.000000</td>\n",
       "      <td>1.000000</td>\n",
       "      <td>1.000000</td>\n",
       "      <td>...</td>\n",
       "      <td>1.500000</td>\n",
       "      <td>80.000000</td>\n",
       "      <td>50.000000</td>\n",
       "      <td>601.000000</td>\n",
       "      <td>91.000000</td>\n",
       "      <td>90.000000</td>\n",
       "      <td>85.000000</td>\n",
       "      <td>64.800000</td>\n",
       "      <td>5.000000</td>\n",
       "      <td>0.000000</td>\n",
       "    </tr>\n",
       "    <tr>\n",
       "      <th>max</th>\n",
       "      <td>4.000000</td>\n",
       "      <td>4.000000</td>\n",
       "      <td>2.000000</td>\n",
       "      <td>4.000000</td>\n",
       "      <td>4.000000</td>\n",
       "      <td>4.000000</td>\n",
       "      <td>4.000000</td>\n",
       "      <td>4.000000</td>\n",
       "      <td>4.000000</td>\n",
       "      <td>4.000000</td>\n",
       "      <td>...</td>\n",
       "      <td>14.500000</td>\n",
       "      <td>255.000000</td>\n",
       "      <td>100.000000</td>\n",
       "      <td>801.000000</td>\n",
       "      <td>194.000000</td>\n",
       "      <td>230.000000</td>\n",
       "      <td>180.000000</td>\n",
       "      <td>999.900000</td>\n",
       "      <td>7.000000</td>\n",
       "      <td>1.000000</td>\n",
       "    </tr>\n",
       "  </tbody>\n",
       "</table>\n",
       "<p>8 rows × 34 columns</p>\n",
       "</div>"
      ],
      "text/plain": [
       "       against_bug  against_dark  against_dragon  against_electric  \\\n",
       "count   801.000000    801.000000      801.000000        801.000000   \n",
       "mean      0.996255      1.057116        0.968789          1.073970   \n",
       "std       0.597248      0.438142        0.353058          0.654962   \n",
       "min       0.250000      0.250000        0.000000          0.000000   \n",
       "25%       0.500000      1.000000        1.000000          0.500000   \n",
       "50%       1.000000      1.000000        1.000000          1.000000   \n",
       "75%       1.000000      1.000000        1.000000          1.000000   \n",
       "max       4.000000      4.000000        2.000000          4.000000   \n",
       "\n",
       "       against_fairy  against_fight  against_fire  against_flying  \\\n",
       "count     801.000000     801.000000    801.000000      801.000000   \n",
       "mean        1.068976       1.065543      1.135456        1.192884   \n",
       "std         0.522167       0.717251      0.691853        0.604488   \n",
       "min         0.250000       0.000000      0.250000        0.250000   \n",
       "25%         1.000000       0.500000      0.500000        1.000000   \n",
       "50%         1.000000       1.000000      1.000000        1.000000   \n",
       "75%         1.000000       1.000000      2.000000        1.000000   \n",
       "max         4.000000       4.000000      4.000000        4.000000   \n",
       "\n",
       "       against_ghost  against_grass  ...    height_m          hp  \\\n",
       "count     801.000000     801.000000  ...  781.000000  801.000000   \n",
       "mean        0.985019       1.034020  ...    1.163892   68.958801   \n",
       "std         0.558256       0.788896  ...    1.080326   26.576015   \n",
       "min         0.000000       0.250000  ...    0.100000    1.000000   \n",
       "25%         1.000000       0.500000  ...    0.600000   50.000000   \n",
       "50%         1.000000       1.000000  ...    1.000000   65.000000   \n",
       "75%         1.000000       1.000000  ...    1.500000   80.000000   \n",
       "max         4.000000       4.000000  ...   14.500000  255.000000   \n",
       "\n",
       "       percentage_male  pokedex_number   sp_attack  sp_defense       speed  \\\n",
       "count       703.000000      801.000000  801.000000  801.000000  801.000000   \n",
       "mean         55.155761      401.000000   71.305868   70.911361   66.334582   \n",
       "std          20.261623      231.373075   32.353826   27.942501   28.907662   \n",
       "min           0.000000        1.000000   10.000000   20.000000    5.000000   \n",
       "25%          50.000000      201.000000   45.000000   50.000000   45.000000   \n",
       "50%          50.000000      401.000000   65.000000   66.000000   65.000000   \n",
       "75%          50.000000      601.000000   91.000000   90.000000   85.000000   \n",
       "max         100.000000      801.000000  194.000000  230.000000  180.000000   \n",
       "\n",
       "        weight_kg  generation  is_legendary  \n",
       "count  781.000000  801.000000    801.000000  \n",
       "mean    61.378105    3.690387      0.087391  \n",
       "std    109.354766    1.930420      0.282583  \n",
       "min      0.100000    1.000000      0.000000  \n",
       "25%      9.000000    2.000000      0.000000  \n",
       "50%     27.300000    4.000000      0.000000  \n",
       "75%     64.800000    5.000000      0.000000  \n",
       "max    999.900000    7.000000      1.000000  \n",
       "\n",
       "[8 rows x 34 columns]"
      ]
     },
     "execution_count": 6,
     "metadata": {},
     "output_type": "execute_result"
    }
   ],
   "source": [
    "data.describe()"
   ]
  },
  {
   "cell_type": "code",
   "execution_count": 7,
   "id": "6963474d-56bf-4714-b1da-8a3b41b8a6e6",
   "metadata": {},
   "outputs": [],
   "source": [
    "df = pd.DataFrame({'name':data['name'],'classification':data['classfication'],'speed':data['speed'],'weight':data['weight_kg'],'height':data['height_m'],'generation':data['generation'],'is_lengendary':data['is_legendary']})"
   ]
  },
  {
   "cell_type": "code",
   "execution_count": 8,
   "id": "c851bb56-c6fa-4eb5-8432-d6a8cf208044",
   "metadata": {},
   "outputs": [
    {
     "data": {
      "text/html": [
       "<div>\n",
       "<style scoped>\n",
       "    .dataframe tbody tr th:only-of-type {\n",
       "        vertical-align: middle;\n",
       "    }\n",
       "\n",
       "    .dataframe tbody tr th {\n",
       "        vertical-align: top;\n",
       "    }\n",
       "\n",
       "    .dataframe thead th {\n",
       "        text-align: right;\n",
       "    }\n",
       "</style>\n",
       "<table border=\"1\" class=\"dataframe\">\n",
       "  <thead>\n",
       "    <tr style=\"text-align: right;\">\n",
       "      <th></th>\n",
       "      <th>name</th>\n",
       "      <th>classification</th>\n",
       "      <th>speed</th>\n",
       "      <th>weight</th>\n",
       "      <th>height</th>\n",
       "      <th>generation</th>\n",
       "      <th>is_lengendary</th>\n",
       "    </tr>\n",
       "  </thead>\n",
       "  <tbody>\n",
       "    <tr>\n",
       "      <th>0</th>\n",
       "      <td>Bulbasaur</td>\n",
       "      <td>Seed Pokémon</td>\n",
       "      <td>45</td>\n",
       "      <td>6.9</td>\n",
       "      <td>0.7</td>\n",
       "      <td>1</td>\n",
       "      <td>0</td>\n",
       "    </tr>\n",
       "    <tr>\n",
       "      <th>1</th>\n",
       "      <td>Ivysaur</td>\n",
       "      <td>Seed Pokémon</td>\n",
       "      <td>60</td>\n",
       "      <td>13.0</td>\n",
       "      <td>1.0</td>\n",
       "      <td>1</td>\n",
       "      <td>0</td>\n",
       "    </tr>\n",
       "    <tr>\n",
       "      <th>2</th>\n",
       "      <td>Venusaur</td>\n",
       "      <td>Seed Pokémon</td>\n",
       "      <td>80</td>\n",
       "      <td>100.0</td>\n",
       "      <td>2.0</td>\n",
       "      <td>1</td>\n",
       "      <td>0</td>\n",
       "    </tr>\n",
       "    <tr>\n",
       "      <th>3</th>\n",
       "      <td>Charmander</td>\n",
       "      <td>Lizard Pokémon</td>\n",
       "      <td>65</td>\n",
       "      <td>8.5</td>\n",
       "      <td>0.6</td>\n",
       "      <td>1</td>\n",
       "      <td>0</td>\n",
       "    </tr>\n",
       "    <tr>\n",
       "      <th>4</th>\n",
       "      <td>Charmeleon</td>\n",
       "      <td>Flame Pokémon</td>\n",
       "      <td>80</td>\n",
       "      <td>19.0</td>\n",
       "      <td>1.1</td>\n",
       "      <td>1</td>\n",
       "      <td>0</td>\n",
       "    </tr>\n",
       "  </tbody>\n",
       "</table>\n",
       "</div>"
      ],
      "text/plain": [
       "         name  classification  speed  weight  height  generation  \\\n",
       "0   Bulbasaur    Seed Pokémon     45     6.9     0.7           1   \n",
       "1     Ivysaur    Seed Pokémon     60    13.0     1.0           1   \n",
       "2    Venusaur    Seed Pokémon     80   100.0     2.0           1   \n",
       "3  Charmander  Lizard Pokémon     65     8.5     0.6           1   \n",
       "4  Charmeleon   Flame Pokémon     80    19.0     1.1           1   \n",
       "\n",
       "   is_lengendary  \n",
       "0              0  \n",
       "1              0  \n",
       "2              0  \n",
       "3              0  \n",
       "4              0  "
      ]
     },
     "execution_count": 8,
     "metadata": {},
     "output_type": "execute_result"
    }
   ],
   "source": [
    "df.head()"
   ]
  },
  {
   "cell_type": "code",
   "execution_count": 9,
   "id": "f2e81885-ae83-4d20-9968-d06f2ab39c2f",
   "metadata": {},
   "outputs": [
    {
     "data": {
      "text/plain": [
       "(801, 7)"
      ]
     },
     "execution_count": 9,
     "metadata": {},
     "output_type": "execute_result"
    }
   ],
   "source": [
    "df.shape"
   ]
  },
  {
   "cell_type": "code",
   "execution_count": 10,
   "id": "024b8326-b9bb-4be2-a787-fa837c749015",
   "metadata": {},
   "outputs": [
    {
     "data": {
      "text/html": [
       "<div>\n",
       "<style scoped>\n",
       "    .dataframe tbody tr th:only-of-type {\n",
       "        vertical-align: middle;\n",
       "    }\n",
       "\n",
       "    .dataframe tbody tr th {\n",
       "        vertical-align: top;\n",
       "    }\n",
       "\n",
       "    .dataframe thead th {\n",
       "        text-align: right;\n",
       "    }\n",
       "</style>\n",
       "<table border=\"1\" class=\"dataframe\">\n",
       "  <thead>\n",
       "    <tr style=\"text-align: right;\">\n",
       "      <th></th>\n",
       "      <th>speed</th>\n",
       "      <th>weight</th>\n",
       "      <th>height</th>\n",
       "      <th>generation</th>\n",
       "      <th>is_lengendary</th>\n",
       "    </tr>\n",
       "  </thead>\n",
       "  <tbody>\n",
       "    <tr>\n",
       "      <th>count</th>\n",
       "      <td>801.000000</td>\n",
       "      <td>781.000000</td>\n",
       "      <td>781.000000</td>\n",
       "      <td>801.000000</td>\n",
       "      <td>801.000000</td>\n",
       "    </tr>\n",
       "    <tr>\n",
       "      <th>mean</th>\n",
       "      <td>66.334582</td>\n",
       "      <td>61.378105</td>\n",
       "      <td>1.163892</td>\n",
       "      <td>3.690387</td>\n",
       "      <td>0.087391</td>\n",
       "    </tr>\n",
       "    <tr>\n",
       "      <th>std</th>\n",
       "      <td>28.907662</td>\n",
       "      <td>109.354766</td>\n",
       "      <td>1.080326</td>\n",
       "      <td>1.930420</td>\n",
       "      <td>0.282583</td>\n",
       "    </tr>\n",
       "    <tr>\n",
       "      <th>min</th>\n",
       "      <td>5.000000</td>\n",
       "      <td>0.100000</td>\n",
       "      <td>0.100000</td>\n",
       "      <td>1.000000</td>\n",
       "      <td>0.000000</td>\n",
       "    </tr>\n",
       "    <tr>\n",
       "      <th>25%</th>\n",
       "      <td>45.000000</td>\n",
       "      <td>9.000000</td>\n",
       "      <td>0.600000</td>\n",
       "      <td>2.000000</td>\n",
       "      <td>0.000000</td>\n",
       "    </tr>\n",
       "    <tr>\n",
       "      <th>50%</th>\n",
       "      <td>65.000000</td>\n",
       "      <td>27.300000</td>\n",
       "      <td>1.000000</td>\n",
       "      <td>4.000000</td>\n",
       "      <td>0.000000</td>\n",
       "    </tr>\n",
       "    <tr>\n",
       "      <th>75%</th>\n",
       "      <td>85.000000</td>\n",
       "      <td>64.800000</td>\n",
       "      <td>1.500000</td>\n",
       "      <td>5.000000</td>\n",
       "      <td>0.000000</td>\n",
       "    </tr>\n",
       "    <tr>\n",
       "      <th>max</th>\n",
       "      <td>180.000000</td>\n",
       "      <td>999.900000</td>\n",
       "      <td>14.500000</td>\n",
       "      <td>7.000000</td>\n",
       "      <td>1.000000</td>\n",
       "    </tr>\n",
       "  </tbody>\n",
       "</table>\n",
       "</div>"
      ],
      "text/plain": [
       "            speed      weight      height  generation  is_lengendary\n",
       "count  801.000000  781.000000  781.000000  801.000000     801.000000\n",
       "mean    66.334582   61.378105    1.163892    3.690387       0.087391\n",
       "std     28.907662  109.354766    1.080326    1.930420       0.282583\n",
       "min      5.000000    0.100000    0.100000    1.000000       0.000000\n",
       "25%     45.000000    9.000000    0.600000    2.000000       0.000000\n",
       "50%     65.000000   27.300000    1.000000    4.000000       0.000000\n",
       "75%     85.000000   64.800000    1.500000    5.000000       0.000000\n",
       "max    180.000000  999.900000   14.500000    7.000000       1.000000"
      ]
     },
     "execution_count": 10,
     "metadata": {},
     "output_type": "execute_result"
    }
   ],
   "source": [
    "df.describe()"
   ]
  },
  {
   "cell_type": "code",
   "execution_count": 11,
   "id": "d60e28d2-eb66-412d-9ac1-6ec1b6e1e97d",
   "metadata": {},
   "outputs": [],
   "source": [
    "def remove_pokemon_from_name(name):\n",
    "    words = name.split()\n",
    "    if words[-1]=='Pokémon':\n",
    "        words.pop()\n",
    "    return \" \".join(words)"
   ]
  },
  {
   "cell_type": "code",
   "execution_count": 12,
   "id": "313f870c-e7c0-4c35-9040-a9b7f5d61136",
   "metadata": {},
   "outputs": [],
   "source": [
    "df['classification'] = df['classification'].apply(remove_pokemon_from_name)"
   ]
  },
  {
   "cell_type": "code",
   "execution_count": 13,
   "id": "10378fee-78a1-4b63-b0f4-65438be50456",
   "metadata": {},
   "outputs": [
    {
     "data": {
      "text/html": [
       "<div>\n",
       "<style scoped>\n",
       "    .dataframe tbody tr th:only-of-type {\n",
       "        vertical-align: middle;\n",
       "    }\n",
       "\n",
       "    .dataframe tbody tr th {\n",
       "        vertical-align: top;\n",
       "    }\n",
       "\n",
       "    .dataframe thead th {\n",
       "        text-align: right;\n",
       "    }\n",
       "</style>\n",
       "<table border=\"1\" class=\"dataframe\">\n",
       "  <thead>\n",
       "    <tr style=\"text-align: right;\">\n",
       "      <th></th>\n",
       "      <th>name</th>\n",
       "      <th>classification</th>\n",
       "      <th>speed</th>\n",
       "      <th>weight</th>\n",
       "      <th>height</th>\n",
       "      <th>generation</th>\n",
       "      <th>is_lengendary</th>\n",
       "    </tr>\n",
       "  </thead>\n",
       "  <tbody>\n",
       "    <tr>\n",
       "      <th>0</th>\n",
       "      <td>Bulbasaur</td>\n",
       "      <td>Seed</td>\n",
       "      <td>45</td>\n",
       "      <td>6.9</td>\n",
       "      <td>0.7</td>\n",
       "      <td>1</td>\n",
       "      <td>0</td>\n",
       "    </tr>\n",
       "    <tr>\n",
       "      <th>1</th>\n",
       "      <td>Ivysaur</td>\n",
       "      <td>Seed</td>\n",
       "      <td>60</td>\n",
       "      <td>13.0</td>\n",
       "      <td>1.0</td>\n",
       "      <td>1</td>\n",
       "      <td>0</td>\n",
       "    </tr>\n",
       "    <tr>\n",
       "      <th>2</th>\n",
       "      <td>Venusaur</td>\n",
       "      <td>Seed</td>\n",
       "      <td>80</td>\n",
       "      <td>100.0</td>\n",
       "      <td>2.0</td>\n",
       "      <td>1</td>\n",
       "      <td>0</td>\n",
       "    </tr>\n",
       "    <tr>\n",
       "      <th>3</th>\n",
       "      <td>Charmander</td>\n",
       "      <td>Lizard</td>\n",
       "      <td>65</td>\n",
       "      <td>8.5</td>\n",
       "      <td>0.6</td>\n",
       "      <td>1</td>\n",
       "      <td>0</td>\n",
       "    </tr>\n",
       "    <tr>\n",
       "      <th>4</th>\n",
       "      <td>Charmeleon</td>\n",
       "      <td>Flame</td>\n",
       "      <td>80</td>\n",
       "      <td>19.0</td>\n",
       "      <td>1.1</td>\n",
       "      <td>1</td>\n",
       "      <td>0</td>\n",
       "    </tr>\n",
       "  </tbody>\n",
       "</table>\n",
       "</div>"
      ],
      "text/plain": [
       "         name classification  speed  weight  height  generation  is_lengendary\n",
       "0   Bulbasaur           Seed     45     6.9     0.7           1              0\n",
       "1     Ivysaur           Seed     60    13.0     1.0           1              0\n",
       "2    Venusaur           Seed     80   100.0     2.0           1              0\n",
       "3  Charmander         Lizard     65     8.5     0.6           1              0\n",
       "4  Charmeleon          Flame     80    19.0     1.1           1              0"
      ]
     },
     "execution_count": 13,
     "metadata": {},
     "output_type": "execute_result"
    }
   ],
   "source": [
    "df.head()"
   ]
  },
  {
   "cell_type": "code",
   "execution_count": 14,
   "id": "61ab3099-2261-4ca2-8f31-dd3b9dc95c61",
   "metadata": {},
   "outputs": [
    {
     "data": {
      "text/plain": [
       "name              Bulbasaur\n",
       "classification         Seed\n",
       "speed                    45\n",
       "weight                  6.9\n",
       "height                  0.7\n",
       "generation                1\n",
       "is_lengendary             0\n",
       "Name: 0, dtype: object"
      ]
     },
     "execution_count": 14,
     "metadata": {},
     "output_type": "execute_result"
    }
   ],
   "source": [
    "df.iloc[0,:]"
   ]
  },
  {
   "cell_type": "markdown",
   "id": "fec76c18-7f4c-41a9-ae7b-a52424803ed1",
   "metadata": {},
   "source": [
    "## Plots to show distribution of pokemon on various characteristics"
   ]
  },
  {
   "cell_type": "code",
   "execution_count": 15,
   "id": "1c083fa4-f674-469d-ba1d-4abbfa2384fb",
   "metadata": {},
   "outputs": [
    {
     "data": {
      "image/png": "[encoded data removed]",
      "text/plain": [
       "<Figure size 1080x720 with 4 Axes>"
      ]
     },
     "metadata": {
      "needs_background": "light"
     },
     "output_type": "display_data"
    }
   ],
   "source": [
    "fig,axes = plt.subplots(2,2,figsize=(15, 10), sharey=True)\n",
    "fig.suptitle(\"Pokemon\")\n",
    "sns.histplot(df,x=\"height\",ax=axes[0,0],color=\"gold\")\n",
    "axes[0,0].set_title(\"Distribution of height of pokemons\")\n",
    "\n",
    "\n",
    "sns.histplot(df,x=\"weight\",ax=axes[0,1],color=\"purple\")\n",
    "axes[0,1].set_title(\"Distribution of weight of pokemons\")\n",
    "\n",
    "sns.histplot(df,x=\"speed\",ax=axes[1,0],color=\"green\")\n",
    "axes[1,0].set_title(\"Distribution of speed of pokemons\")\n",
    "\n",
    "generation_count = df['generation'].value_counts()\n",
    "sns.barplot(x=generation_count.index, y=generation_count.values ,ax=axes[1,1])\n",
    "axes[1,1].set_title(\"Generations of pokemons\")\n",
    "plt.show()"
   ]
  },
  {
   "cell_type": "code",
   "execution_count": 16,
   "id": "4248ab5b-2c76-4088-8ffb-bd341a72f5e8",
   "metadata": {},
   "outputs": [
    {
     "data": {
      "image/png": "[encoded data removed]",
      "text/plain": [
       "<Figure size 432x288 with 1 Axes>"
      ]
     },
     "metadata": {},
     "output_type": "display_data"
    }
   ],
   "source": [
    "plt.pie(generation_count.values,labels=generation_count.index,autopct='%1.2f%%',radius=1.5)\n",
    "plt.show()"
   ]
  },
  {
   "cell_type": "code",
   "execution_count": 17,
   "id": "6b25a223-9d67-4df7-857c-4a2922a671c4",
   "metadata": {},
   "outputs": [],
   "source": [
    "df.rename(columns={'is_lengendary':'is_legendary'},inplace=True)"
   ]
  },
  {
   "cell_type": "code",
   "execution_count": 18,
   "id": "a2881c3b-b848-4e49-b65d-48db9c860906",
   "metadata": {},
   "outputs": [],
   "source": [
    "is_legendary_count=df['is_legendary'].value_counts()"
   ]
  },
  {
   "cell_type": "code",
   "execution_count": 19,
   "id": "ed5dac1e-7223-4016-817e-42713887df0e",
   "metadata": {},
   "outputs": [
    {
     "data": {
      "text/plain": [
       "<AxesSubplot:>"
      ]
     },
     "execution_count": 19,
     "metadata": {},
     "output_type": "execute_result"
    },
    {
     "data": {
      "image/png": "[encoded data removed]",
      "text/plain": [
       "<Figure size 432x288 with 1 Axes>"
      ]
     },
     "metadata": {
      "needs_background": "light"
     },
     "output_type": "display_data"
    }
   ],
   "source": [
    "sns.barplot(x=is_legendary_count.index,y=is_legendary_count.values)"
   ]
  },
  {
   "cell_type": "markdown",
   "id": "f841644e-d03c-4095-9a76-ab99cda29d15",
   "metadata": {},
   "source": [
    "## Logistic regression model to predict if a pokemon is legendary or not basis of other features"
   ]
  },
  {
   "cell_type": "code",
   "execution_count": 20,
   "id": "deed0f88-56d7-43bd-a584-28ad19bcc14c",
   "metadata": {},
   "outputs": [],
   "source": [
    "from sklearn.model_selection import train_test_split\n",
    "from sklearn.linear_model import LogisticRegression\n",
    "from sklearn.svm import SVC\n",
    "from sklearn.neighbors import KNeighborsClassifier\n",
    "from sklearn.preprocessing import StandardScaler\n",
    "from sklearn.pipeline import Pipeline\n"
   ]
  },
  {
   "cell_type": "code",
   "execution_count": 21,
   "id": "a9702bb7-3424-49d7-818f-77e84ec28c2e",
   "metadata": {},
   "outputs": [],
   "source": [
    "df.drop('name',axis=1,inplace=True)"
   ]
  },
  {
   "cell_type": "code",
   "execution_count": 22,
   "id": "c9699382-f42b-47c3-b616-9ec1af46b027",
   "metadata": {},
   "outputs": [],
   "source": [
    "df.drop('classification',axis=1,inplace=True)"
   ]
  },
  {
   "cell_type": "code",
   "execution_count": 23,
   "id": "66ae4ab4-6117-4617-b72c-fb2ddb14ce0b",
   "metadata": {},
   "outputs": [
    {
     "data": {
      "text/html": [
       "<div>\n",
       "<style scoped>\n",
       "    .dataframe tbody tr th:only-of-type {\n",
       "        vertical-align: middle;\n",
       "    }\n",
       "\n",
       "    .dataframe tbody tr th {\n",
       "        vertical-align: top;\n",
       "    }\n",
       "\n",
       "    .dataframe thead th {\n",
       "        text-align: right;\n",
       "    }\n",
       "</style>\n",
       "<table border=\"1\" class=\"dataframe\">\n",
       "  <thead>\n",
       "    <tr style=\"text-align: right;\">\n",
       "      <th></th>\n",
       "      <th>speed</th>\n",
       "      <th>weight</th>\n",
       "      <th>height</th>\n",
       "      <th>generation</th>\n",
       "      <th>is_legendary</th>\n",
       "    </tr>\n",
       "  </thead>\n",
       "  <tbody>\n",
       "    <tr>\n",
       "      <th>0</th>\n",
       "      <td>45</td>\n",
       "      <td>6.9</td>\n",
       "      <td>0.7</td>\n",
       "      <td>1</td>\n",
       "      <td>0</td>\n",
       "    </tr>\n",
       "    <tr>\n",
       "      <th>1</th>\n",
       "      <td>60</td>\n",
       "      <td>13.0</td>\n",
       "      <td>1.0</td>\n",
       "      <td>1</td>\n",
       "      <td>0</td>\n",
       "    </tr>\n",
       "    <tr>\n",
       "      <th>2</th>\n",
       "      <td>80</td>\n",
       "      <td>100.0</td>\n",
       "      <td>2.0</td>\n",
       "      <td>1</td>\n",
       "      <td>0</td>\n",
       "    </tr>\n",
       "    <tr>\n",
       "      <th>3</th>\n",
       "      <td>65</td>\n",
       "      <td>8.5</td>\n",
       "      <td>0.6</td>\n",
       "      <td>1</td>\n",
       "      <td>0</td>\n",
       "    </tr>\n",
       "    <tr>\n",
       "      <th>4</th>\n",
       "      <td>80</td>\n",
       "      <td>19.0</td>\n",
       "      <td>1.1</td>\n",
       "      <td>1</td>\n",
       "      <td>0</td>\n",
       "    </tr>\n",
       "  </tbody>\n",
       "</table>\n",
       "</div>"
      ],
      "text/plain": [
       "   speed  weight  height  generation  is_legendary\n",
       "0     45     6.9     0.7           1             0\n",
       "1     60    13.0     1.0           1             0\n",
       "2     80   100.0     2.0           1             0\n",
       "3     65     8.5     0.6           1             0\n",
       "4     80    19.0     1.1           1             0"
      ]
     },
     "execution_count": 23,
     "metadata": {},
     "output_type": "execute_result"
    }
   ],
   "source": [
    "df.head()"
   ]
  },
  {
   "cell_type": "code",
   "execution_count": 24,
   "id": "64ece3ab-2a1f-4a62-862d-68442a897ad9",
   "metadata": {},
   "outputs": [],
   "source": [
    "df.dropna(inplace=True)"
   ]
  },
  {
   "cell_type": "code",
   "execution_count": 25,
   "id": "7c65fada-0390-492c-a761-55e0701d3484",
   "metadata": {},
   "outputs": [],
   "source": [
    "y = df['is_legendary']"
   ]
  },
  {
   "cell_type": "code",
   "execution_count": 26,
   "id": "0287f5b5-91db-459f-9ad2-b93c0af6781f",
   "metadata": {},
   "outputs": [],
   "source": [
    "X = df\n",
    "X.drop('is_legendary',axis=1,inplace=True)"
   ]
  },
  {
   "cell_type": "code",
   "execution_count": 27,
   "id": "fdad23f9-090c-456c-a984-584da8125efd",
   "metadata": {},
   "outputs": [],
   "source": [
    "X_train,X_test,y_train,y_test = train_test_split(X,y,stratify=y,test_size=0.2)"
   ]
  },
  {
   "cell_type": "code",
   "execution_count": 28,
   "id": "c536ca3f-0082-4e91-bde0-cea12349309f",
   "metadata": {},
   "outputs": [],
   "source": [
    "models = {'SVC':SVC(),'LogisticRegression':LogisticRegression(),'KNeighborsClassifier':KNeighborsClassifier(n_neighbors=5)}\n",
    "accuracy ={}\n",
    "def CheckAccuracy():\n",
    "    for model_name,model in models.items():\n",
    "        pipeline = Pipeline([('scaler',StandardScaler()),('model',model)])\n",
    "        pipeline.fit(X_train,y_train)\n",
    "        score = round(pipeline.score(X_test,y_test)*100,2)\n",
    "        accuracy[model_name] = score"
   ]
  },
  {
   "cell_type": "code",
   "execution_count": 29,
   "id": "c8ef3c3b-73fe-4590-b942-84dfcf68bb87",
   "metadata": {},
   "outputs": [],
   "source": [
    "CheckAccuracy()"
   ]
  },
  {
   "cell_type": "code",
   "execution_count": 30,
   "id": "3cf94f7b-797a-4337-aa8c-c7362912f84e",
   "metadata": {},
   "outputs": [
    {
     "data": {
      "text/plain": [
       "{'SVC': 92.99, 'LogisticRegression': 95.54, 'KNeighborsClassifier': 92.99}"
      ]
     },
     "execution_count": 30,
     "metadata": {},
     "output_type": "execute_result"
    }
   ],
   "source": [
    "accuracy"
   ]
  },
  {
   "cell_type": "code",
   "execution_count": 31,
   "id": "b7360ff5-708b-40db-a03a-d5ff8b41206c",
   "metadata": {},
   "outputs": [],
   "source": [
    "accuracy_metric = pd.Series(accuracy)"
   ]
  },
  {
   "cell_type": "code",
   "execution_count": 32,
   "id": "c1446e1f-ab61-46e3-a929-1ab65343053e",
   "metadata": {},
   "outputs": [
    {
     "data": {
      "text/plain": [
       "SVC                     92.99\n",
       "LogisticRegression      95.54\n",
       "KNeighborsClassifier    92.99\n",
       "dtype: float64"
      ]
     },
     "execution_count": 32,
     "metadata": {},
     "output_type": "execute_result"
    }
   ],
   "source": [
    "accuracy_metric"
   ]
  },
  {
   "cell_type": "code",
   "execution_count": 33,
   "id": "11c46e77-525c-41fc-8981-052f0f4796ce",
   "metadata": {},
   "outputs": [
    {
     "data": {
      "text/plain": [
       "<AxesSubplot:>"
      ]
     },
     "execution_count": 33,
     "metadata": {},
     "output_type": "execute_result"
    },
    {
     "data": {
      "image/png": "[encoded data removed]",
      "text/plain": [
       "<Figure size 432x288 with 1 Axes>"
      ]
     },
     "metadata": {
      "needs_background": "light"
     },
     "output_type": "display_data"
    }
   ],
   "source": [
    "sns.barplot(x=accuracy_metric.index,y=accuracy_metric.values)"
   ]
  },
  {
   "cell_type": "markdown",
   "id": "a5534509-60cc-44fd-b197-7879cfec8ba3",
   "metadata": {},
   "source": [
    "### Saving final model as LogisticRegression"
   ]
  },
  {
   "cell_type": "code",
   "execution_count": 34,
   "id": "5130c808-79e5-40a7-9fd0-2d2362174538",
   "metadata": {},
   "outputs": [
    {
     "data": {
      "text/plain": [
       "Pipeline(steps=[('scaler', StandardScaler()), ('model', LogisticRegression())])"
      ]
     },
     "execution_count": 34,
     "metadata": {},
     "output_type": "execute_result"
    }
   ],
   "source": [
    "pipeline = Pipeline([('scaler',StandardScaler()),('model',LogisticRegression())])\n",
    "pipeline.fit(X_train,y_train)"
   ]
  },
  {
   "cell_type": "code",
   "execution_count": 35,
   "id": "4d4eac57-a32a-4379-ba55-b770bb784da0",
   "metadata": {},
   "outputs": [
    {
     "data": {
      "text/plain": [
       "0.9554140127388535"
      ]
     },
     "execution_count": 35,
     "metadata": {},
     "output_type": "execute_result"
    }
   ],
   "source": [
    "pipeline.score(X_test,y_test)"
   ]
  },
  {
   "cell_type": "code",
   "execution_count": 36,
   "id": "d6646d7d-4cdb-4de0-8e97-a25577fc5da4",
   "metadata": {},
   "outputs": [],
   "source": [
    "import joblib"
   ]
  },
  {
   "cell_type": "code",
   "execution_count": 37,
   "id": "e8bf1a43-a47a-46fa-b823-ac2cda11914c",
   "metadata": {},
   "outputs": [
    {
     "data": {
      "text/plain": [
       "['is_legendary_predictor.sav']"
      ]
     },
     "execution_count": 37,
     "metadata": {},
     "output_type": "execute_result"
    }
   ],
   "source": [
    "joblib.dump(pipeline,\"is_legendary_predictor.sav\")"
   ]
  }
 ],
 "metadata": {
  "kernelspec": {
   "display_name": "env",
   "language": "python",
   "name": "env"
  },
  "language_info": {
   "codemirror_mode": {
    "name": "ipython",
    "version": 3
   },
   "file_extension": ".py",
   "mimetype": "text/x-python",
   "name": "python",
   "nbconvert_exporter": "python",
   "pygments_lexer": "ipython3",
   "version": "3.8.7"
  }
 },
 "nbformat": 4,
 "nbformat_minor": 5
}
